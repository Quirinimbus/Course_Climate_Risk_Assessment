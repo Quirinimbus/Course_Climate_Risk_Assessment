{
 "cells": [
  {
   "cell_type": "markdown",
   "metadata": {},
   "source": [
    "**Note**: Work with reduced datasets for the exercise tasks, that is the datasets in the EUR-11N folder.\n",
    "\n",
    "The solutions are available in the same folder, check them if you get stuck but try to find a solution on your own first."
   ]
  },
  {
   "cell_type": "markdown",
   "metadata": {},
   "source": [
    "# Task 1"
   ]
  },
  {
   "cell_type": "markdown",
   "metadata": {},
   "source": [
    "To do this task, in your home directory select this file `/lhome/cra2022/YOURHOME/climriskdata/EUR-11N/MPI-M-MPI-ESM-LR_MPI-CSC-REMO2009_v1/historical/tas/reduced_tas_EUR-11_MPI-M-MPI-ESM-LR_historical_r1i1p1_MPI-CSC-REMO2009_v1_day_19710101-19751231_LL.nc`. \n",
    "\n",
    "Find out the following:\n",
    "\n",
    "a) Data variables (how many? what are their names?)\n",
    "\n",
    "b) Coordinates and dimensions of the file. Are coordinates and dimensions the same?\n",
    "\n",
    "c) Max/Min of the following: time, latitude, longitude\n",
    "\n",
    "d) Unit of the variable\n",
    "\n",
    "e) Extract the grid points located close to Bern. (Hint: Use `method='nearest'`)\n",
    "\n",
    "f) Visualise the time-series for Bern using a quick plot."
   ]
  },
  {
   "cell_type": "code",
   "execution_count": 27,
   "metadata": {},
   "outputs": [
    {
     "data": {
      "text/html": [
       "<div><svg style=\"position: absolute; width: 0; height: 0; overflow: hidden\">\n",
       "<defs>\n",
       "<symbol id=\"icon-database\" viewBox=\"0 0 32 32\">\n",
       "<path d=\"M16 0c-8.837 0-16 2.239-16 5v4c0 2.761 7.163 5 16 5s16-2.239 16-5v-4c0-2.761-7.163-5-16-5z\"></path>\n",
       "<path d=\"M16 17c-8.837 0-16-2.239-16-5v6c0 2.761 7.163 5 16 5s16-2.239 16-5v-6c0 2.761-7.163 5-16 5z\"></path>\n",
       "<path d=\"M16 26c-8.837 0-16-2.239-16-5v6c0 2.761 7.163 5 16 5s16-2.239 16-5v-6c0 2.761-7.163 5-16 5z\"></path>\n",
       "</symbol>\n",
       "<symbol id=\"icon-file-text2\" viewBox=\"0 0 32 32\">\n",
       "<path d=\"M28.681 7.159c-0.694-0.947-1.662-2.053-2.724-3.116s-2.169-2.030-3.116-2.724c-1.612-1.182-2.393-1.319-2.841-1.319h-15.5c-1.378 0-2.5 1.121-2.5 2.5v27c0 1.378 1.122 2.5 2.5 2.5h23c1.378 0 2.5-1.122 2.5-2.5v-19.5c0-0.448-0.137-1.23-1.319-2.841zM24.543 5.457c0.959 0.959 1.712 1.825 2.268 2.543h-4.811v-4.811c0.718 0.556 1.584 1.309 2.543 2.268zM28 29.5c0 0.271-0.229 0.5-0.5 0.5h-23c-0.271 0-0.5-0.229-0.5-0.5v-27c0-0.271 0.229-0.5 0.5-0.5 0 0 15.499-0 15.5 0v7c0 0.552 0.448 1 1 1h7v19.5z\"></path>\n",
       "<path d=\"M23 26h-14c-0.552 0-1-0.448-1-1s0.448-1 1-1h14c0.552 0 1 0.448 1 1s-0.448 1-1 1z\"></path>\n",
       "<path d=\"M23 22h-14c-0.552 0-1-0.448-1-1s0.448-1 1-1h14c0.552 0 1 0.448 1 1s-0.448 1-1 1z\"></path>\n",
       "<path d=\"M23 18h-14c-0.552 0-1-0.448-1-1s0.448-1 1-1h14c0.552 0 1 0.448 1 1s-0.448 1-1 1z\"></path>\n",
       "</symbol>\n",
       "</defs>\n",
       "</svg>\n",
       "<style>/* CSS stylesheet for displaying xarray objects in jupyterlab.\n",
       " *\n",
       " */\n",
       "\n",
       ":root {\n",
       "  --xr-font-color0: var(--jp-content-font-color0, rgba(0, 0, 0, 1));\n",
       "  --xr-font-color2: var(--jp-content-font-color2, rgba(0, 0, 0, 0.54));\n",
       "  --xr-font-color3: var(--jp-content-font-color3, rgba(0, 0, 0, 0.38));\n",
       "  --xr-border-color: var(--jp-border-color2, #e0e0e0);\n",
       "  --xr-disabled-color: var(--jp-layout-color3, #bdbdbd);\n",
       "  --xr-background-color: var(--jp-layout-color0, white);\n",
       "  --xr-background-color-row-even: var(--jp-layout-color1, white);\n",
       "  --xr-background-color-row-odd: var(--jp-layout-color2, #eeeeee);\n",
       "}\n",
       "\n",
       "html[theme=dark],\n",
       "body.vscode-dark {\n",
       "  --xr-font-color0: rgba(255, 255, 255, 1);\n",
       "  --xr-font-color2: rgba(255, 255, 255, 0.54);\n",
       "  --xr-font-color3: rgba(255, 255, 255, 0.38);\n",
       "  --xr-border-color: #1F1F1F;\n",
       "  --xr-disabled-color: #515151;\n",
       "  --xr-background-color: #111111;\n",
       "  --xr-background-color-row-even: #111111;\n",
       "  --xr-background-color-row-odd: #313131;\n",
       "}\n",
       "\n",
       ".xr-wrap {\n",
       "  display: block !important;\n",
       "  min-width: 300px;\n",
       "  max-width: 700px;\n",
       "}\n",
       "\n",
       ".xr-text-repr-fallback {\n",
       "  /* fallback to plain text repr when CSS is not injected (untrusted notebook) */\n",
       "  display: none;\n",
       "}\n",
       "\n",
       ".xr-header {\n",
       "  padding-top: 6px;\n",
       "  padding-bottom: 6px;\n",
       "  margin-bottom: 4px;\n",
       "  border-bottom: solid 1px var(--xr-border-color);\n",
       "}\n",
       "\n",
       ".xr-header > div,\n",
       ".xr-header > ul {\n",
       "  display: inline;\n",
       "  margin-top: 0;\n",
       "  margin-bottom: 0;\n",
       "}\n",
       "\n",
       ".xr-obj-type,\n",
       ".xr-array-name {\n",
       "  margin-left: 2px;\n",
       "  margin-right: 10px;\n",
       "}\n",
       "\n",
       ".xr-obj-type {\n",
       "  color: var(--xr-font-color2);\n",
       "}\n",
       "\n",
       ".xr-sections {\n",
       "  padding-left: 0 !important;\n",
       "  display: grid;\n",
       "  grid-template-columns: 150px auto auto 1fr 20px 20px;\n",
       "}\n",
       "\n",
       ".xr-section-item {\n",
       "  display: contents;\n",
       "}\n",
       "\n",
       ".xr-section-item input {\n",
       "  display: none;\n",
       "}\n",
       "\n",
       ".xr-section-item input + label {\n",
       "  color: var(--xr-disabled-color);\n",
       "}\n",
       "\n",
       ".xr-section-item input:enabled + label {\n",
       "  cursor: pointer;\n",
       "  color: var(--xr-font-color2);\n",
       "}\n",
       "\n",
       ".xr-section-item input:enabled + label:hover {\n",
       "  color: var(--xr-font-color0);\n",
       "}\n",
       "\n",
       ".xr-section-summary {\n",
       "  grid-column: 1;\n",
       "  color: var(--xr-font-color2);\n",
       "  font-weight: 500;\n",
       "}\n",
       "\n",
       ".xr-section-summary > span {\n",
       "  display: inline-block;\n",
       "  padding-left: 0.5em;\n",
       "}\n",
       "\n",
       ".xr-section-summary-in:disabled + label {\n",
       "  color: var(--xr-font-color2);\n",
       "}\n",
       "\n",
       ".xr-section-summary-in + label:before {\n",
       "  display: inline-block;\n",
       "  content: '►';\n",
       "  font-size: 11px;\n",
       "  width: 15px;\n",
       "  text-align: center;\n",
       "}\n",
       "\n",
       ".xr-section-summary-in:disabled + label:before {\n",
       "  color: var(--xr-disabled-color);\n",
       "}\n",
       "\n",
       ".xr-section-summary-in:checked + label:before {\n",
       "  content: '▼';\n",
       "}\n",
       "\n",
       ".xr-section-summary-in:checked + label > span {\n",
       "  display: none;\n",
       "}\n",
       "\n",
       ".xr-section-summary,\n",
       ".xr-section-inline-details {\n",
       "  padding-top: 4px;\n",
       "  padding-bottom: 4px;\n",
       "}\n",
       "\n",
       ".xr-section-inline-details {\n",
       "  grid-column: 2 / -1;\n",
       "}\n",
       "\n",
       ".xr-section-details {\n",
       "  display: none;\n",
       "  grid-column: 1 / -1;\n",
       "  margin-bottom: 5px;\n",
       "}\n",
       "\n",
       ".xr-section-summary-in:checked ~ .xr-section-details {\n",
       "  display: contents;\n",
       "}\n",
       "\n",
       ".xr-array-wrap {\n",
       "  grid-column: 1 / -1;\n",
       "  display: grid;\n",
       "  grid-template-columns: 20px auto;\n",
       "}\n",
       "\n",
       ".xr-array-wrap > label {\n",
       "  grid-column: 1;\n",
       "  vertical-align: top;\n",
       "}\n",
       "\n",
       ".xr-preview {\n",
       "  color: var(--xr-font-color3);\n",
       "}\n",
       "\n",
       ".xr-array-preview,\n",
       ".xr-array-data {\n",
       "  padding: 0 5px !important;\n",
       "  grid-column: 2;\n",
       "}\n",
       "\n",
       ".xr-array-data,\n",
       ".xr-array-in:checked ~ .xr-array-preview {\n",
       "  display: none;\n",
       "}\n",
       "\n",
       ".xr-array-in:checked ~ .xr-array-data,\n",
       ".xr-array-preview {\n",
       "  display: inline-block;\n",
       "}\n",
       "\n",
       ".xr-dim-list {\n",
       "  display: inline-block !important;\n",
       "  list-style: none;\n",
       "  padding: 0 !important;\n",
       "  margin: 0;\n",
       "}\n",
       "\n",
       ".xr-dim-list li {\n",
       "  display: inline-block;\n",
       "  padding: 0;\n",
       "  margin: 0;\n",
       "}\n",
       "\n",
       ".xr-dim-list:before {\n",
       "  content: '(';\n",
       "}\n",
       "\n",
       ".xr-dim-list:after {\n",
       "  content: ')';\n",
       "}\n",
       "\n",
       ".xr-dim-list li:not(:last-child):after {\n",
       "  content: ',';\n",
       "  padding-right: 5px;\n",
       "}\n",
       "\n",
       ".xr-has-index {\n",
       "  font-weight: bold;\n",
       "}\n",
       "\n",
       ".xr-var-list,\n",
       ".xr-var-item {\n",
       "  display: contents;\n",
       "}\n",
       "\n",
       ".xr-var-item > div,\n",
       ".xr-var-item label,\n",
       ".xr-var-item > .xr-var-name span {\n",
       "  background-color: var(--xr-background-color-row-even);\n",
       "  margin-bottom: 0;\n",
       "}\n",
       "\n",
       ".xr-var-item > .xr-var-name:hover span {\n",
       "  padding-right: 5px;\n",
       "}\n",
       "\n",
       ".xr-var-list > li:nth-child(odd) > div,\n",
       ".xr-var-list > li:nth-child(odd) > label,\n",
       ".xr-var-list > li:nth-child(odd) > .xr-var-name span {\n",
       "  background-color: var(--xr-background-color-row-odd);\n",
       "}\n",
       "\n",
       ".xr-var-name {\n",
       "  grid-column: 1;\n",
       "}\n",
       "\n",
       ".xr-var-dims {\n",
       "  grid-column: 2;\n",
       "}\n",
       "\n",
       ".xr-var-dtype {\n",
       "  grid-column: 3;\n",
       "  text-align: right;\n",
       "  color: var(--xr-font-color2);\n",
       "}\n",
       "\n",
       ".xr-var-preview {\n",
       "  grid-column: 4;\n",
       "}\n",
       "\n",
       ".xr-var-name,\n",
       ".xr-var-dims,\n",
       ".xr-var-dtype,\n",
       ".xr-preview,\n",
       ".xr-attrs dt {\n",
       "  white-space: nowrap;\n",
       "  overflow: hidden;\n",
       "  text-overflow: ellipsis;\n",
       "  padding-right: 10px;\n",
       "}\n",
       "\n",
       ".xr-var-name:hover,\n",
       ".xr-var-dims:hover,\n",
       ".xr-var-dtype:hover,\n",
       ".xr-attrs dt:hover {\n",
       "  overflow: visible;\n",
       "  width: auto;\n",
       "  z-index: 1;\n",
       "}\n",
       "\n",
       ".xr-var-attrs,\n",
       ".xr-var-data {\n",
       "  display: none;\n",
       "  background-color: var(--xr-background-color) !important;\n",
       "  padding-bottom: 5px !important;\n",
       "}\n",
       "\n",
       ".xr-var-attrs-in:checked ~ .xr-var-attrs,\n",
       ".xr-var-data-in:checked ~ .xr-var-data {\n",
       "  display: block;\n",
       "}\n",
       "\n",
       ".xr-var-data > table {\n",
       "  float: right;\n",
       "}\n",
       "\n",
       ".xr-var-name span,\n",
       ".xr-var-data,\n",
       ".xr-attrs {\n",
       "  padding-left: 25px !important;\n",
       "}\n",
       "\n",
       ".xr-attrs,\n",
       ".xr-var-attrs,\n",
       ".xr-var-data {\n",
       "  grid-column: 1 / -1;\n",
       "}\n",
       "\n",
       "dl.xr-attrs {\n",
       "  padding: 0;\n",
       "  margin: 0;\n",
       "  display: grid;\n",
       "  grid-template-columns: 125px auto;\n",
       "}\n",
       "\n",
       ".xr-attrs dt,\n",
       ".xr-attrs dd {\n",
       "  padding: 0;\n",
       "  margin: 0;\n",
       "  float: left;\n",
       "  padding-right: 10px;\n",
       "  width: auto;\n",
       "}\n",
       "\n",
       ".xr-attrs dt {\n",
       "  font-weight: normal;\n",
       "  grid-column: 1;\n",
       "}\n",
       "\n",
       ".xr-attrs dt:hover span {\n",
       "  display: inline-block;\n",
       "  background: var(--xr-background-color);\n",
       "  padding-right: 10px;\n",
       "}\n",
       "\n",
       ".xr-attrs dd {\n",
       "  grid-column: 2;\n",
       "  white-space: pre-wrap;\n",
       "  word-break: break-all;\n",
       "}\n",
       "\n",
       ".xr-icon-database,\n",
       ".xr-icon-file-text2 {\n",
       "  display: inline-block;\n",
       "  vertical-align: middle;\n",
       "  width: 1em;\n",
       "  height: 1.5em !important;\n",
       "  stroke-width: 0;\n",
       "  stroke: currentColor;\n",
       "  fill: currentColor;\n",
       "}\n",
       "</style><pre class='xr-text-repr-fallback'>&lt;xarray.Dataset&gt;\n",
       "Dimensions:    (time: 1826, bnds: 2, lon: 61, lat: 41)\n",
       "Coordinates:\n",
       "  * time       (time) datetime64[ns] 1971-01-01T12:00:00 ... 1975-12-31T12:00:00\n",
       "  * lon        (lon) float64 5.0 5.1 5.2 5.3 5.4 ... 10.6 10.7 10.8 10.9 11.0\n",
       "  * lat        (lat) float64 44.0 44.1 44.2 44.3 44.4 ... 47.7 47.8 47.9 48.0\n",
       "Dimensions without coordinates: bnds\n",
       "Data variables:\n",
       "    time_bnds  (time, bnds) datetime64[ns] 1971-01-01 1971-01-02 ... 1976-01-01\n",
       "    tas        (time, lat, lon) float32 ...\n",
       "Attributes: (12/31)\n",
       "    CDI:                            Climate Data Interface version ?? (http:/...\n",
       "    history:                        Fri Mar 13 11:20:15 2020: cdo sellonlatbo...\n",
       "    source:                         MPI-CSC-REMO2009\n",
       "    institution:                    Helmholtz-Zentrum Geesthacht, Climate Ser...\n",
       "    Conventions:                    CF-1.4\n",
       "    institute_id:                   MPI-CSC\n",
       "    ...                             ...\n",
       "    table_id:                       Table day (March 2015) 6f55fe4ad23cded422...\n",
       "    title:                          MPI-CSC-REMO2009 model output prepared fo...\n",
       "    modeling_realm:                 atmos\n",
       "    realization:                    1\n",
       "    cmor_version:                   2.9.1\n",
       "    CDO:                            Climate Data Operators version 1.9.3 (htt...</pre><div class='xr-wrap' style='display:none'><div class='xr-header'><div class='xr-obj-type'>xarray.Dataset</div></div><ul class='xr-sections'><li class='xr-section-item'><input id='section-8bd56c28-28da-4a55-9a13-d6070d9a4d75' class='xr-section-summary-in' type='checkbox' disabled ><label for='section-8bd56c28-28da-4a55-9a13-d6070d9a4d75' class='xr-section-summary'  title='Expand/collapse section'>Dimensions:</label><div class='xr-section-inline-details'><ul class='xr-dim-list'><li><span class='xr-has-index'>time</span>: 1826</li><li><span>bnds</span>: 2</li><li><span class='xr-has-index'>lon</span>: 61</li><li><span class='xr-has-index'>lat</span>: 41</li></ul></div><div class='xr-section-details'></div></li><li class='xr-section-item'><input id='section-d6864f52-23ce-4ed3-a2ee-b3263a73d7ef' class='xr-section-summary-in' type='checkbox'  checked><label for='section-d6864f52-23ce-4ed3-a2ee-b3263a73d7ef' class='xr-section-summary' >Coordinates: <span>(3)</span></label><div class='xr-section-inline-details'></div><div class='xr-section-details'><ul class='xr-var-list'><li class='xr-var-item'><div class='xr-var-name'><span class='xr-has-index'>time</span></div><div class='xr-var-dims'>(time)</div><div class='xr-var-dtype'>datetime64[ns]</div><div class='xr-var-preview xr-preview'>1971-01-01T12:00:00 ... 1975-12-...</div><input id='attrs-16010800-0228-4ea1-8150-fbd297c1f3b2' class='xr-var-attrs-in' type='checkbox' ><label for='attrs-16010800-0228-4ea1-8150-fbd297c1f3b2' title='Show/Hide attributes'><svg class='icon xr-icon-file-text2'><use xlink:href='#icon-file-text2'></use></svg></label><input id='data-8118e222-ac36-45ae-8d63-342b3643d5ca' class='xr-var-data-in' type='checkbox'><label for='data-8118e222-ac36-45ae-8d63-342b3643d5ca' title='Show/Hide data repr'><svg class='icon xr-icon-database'><use xlink:href='#icon-database'></use></svg></label><div class='xr-var-attrs'><dl class='xr-attrs'><dt><span>standard_name :</span></dt><dd>time</dd><dt><span>long_name :</span></dt><dd>time</dd><dt><span>bounds :</span></dt><dd>time_bnds</dd><dt><span>axis :</span></dt><dd>T</dd></dl></div><div class='xr-var-data'><pre>array([&#x27;1971-01-01T12:00:00.000000000&#x27;, &#x27;1971-01-02T12:00:00.000000000&#x27;,\n",
       "       &#x27;1971-01-03T12:00:00.000000000&#x27;, ..., &#x27;1975-12-29T12:00:00.000000000&#x27;,\n",
       "       &#x27;1975-12-30T12:00:00.000000000&#x27;, &#x27;1975-12-31T12:00:00.000000000&#x27;],\n",
       "      dtype=&#x27;datetime64[ns]&#x27;)</pre></div></li><li class='xr-var-item'><div class='xr-var-name'><span class='xr-has-index'>lon</span></div><div class='xr-var-dims'>(lon)</div><div class='xr-var-dtype'>float64</div><div class='xr-var-preview xr-preview'>5.0 5.1 5.2 5.3 ... 10.8 10.9 11.0</div><input id='attrs-0901da16-9e4c-4620-8c47-5180b29887b7' class='xr-var-attrs-in' type='checkbox' ><label for='attrs-0901da16-9e4c-4620-8c47-5180b29887b7' title='Show/Hide attributes'><svg class='icon xr-icon-file-text2'><use xlink:href='#icon-file-text2'></use></svg></label><input id='data-11595026-fd9d-4262-9ff9-29851885d325' class='xr-var-data-in' type='checkbox'><label for='data-11595026-fd9d-4262-9ff9-29851885d325' title='Show/Hide data repr'><svg class='icon xr-icon-database'><use xlink:href='#icon-database'></use></svg></label><div class='xr-var-attrs'><dl class='xr-attrs'><dt><span>standard_name :</span></dt><dd>longitude</dd><dt><span>long_name :</span></dt><dd>longitude</dd><dt><span>units :</span></dt><dd>degrees_east</dd><dt><span>axis :</span></dt><dd>X</dd></dl></div><div class='xr-var-data'><pre>array([ 5. ,  5.1,  5.2,  5.3,  5.4,  5.5,  5.6,  5.7,  5.8,  5.9,  6. ,  6.1,\n",
       "        6.2,  6.3,  6.4,  6.5,  6.6,  6.7,  6.8,  6.9,  7. ,  7.1,  7.2,  7.3,\n",
       "        7.4,  7.5,  7.6,  7.7,  7.8,  7.9,  8. ,  8.1,  8.2,  8.3,  8.4,  8.5,\n",
       "        8.6,  8.7,  8.8,  8.9,  9. ,  9.1,  9.2,  9.3,  9.4,  9.5,  9.6,  9.7,\n",
       "        9.8,  9.9, 10. , 10.1, 10.2, 10.3, 10.4, 10.5, 10.6, 10.7, 10.8, 10.9,\n",
       "       11. ])</pre></div></li><li class='xr-var-item'><div class='xr-var-name'><span class='xr-has-index'>lat</span></div><div class='xr-var-dims'>(lat)</div><div class='xr-var-dtype'>float64</div><div class='xr-var-preview xr-preview'>44.0 44.1 44.2 ... 47.8 47.9 48.0</div><input id='attrs-3dfa1a33-559b-40a2-8865-0af2ddfc34fd' class='xr-var-attrs-in' type='checkbox' ><label for='attrs-3dfa1a33-559b-40a2-8865-0af2ddfc34fd' title='Show/Hide attributes'><svg class='icon xr-icon-file-text2'><use xlink:href='#icon-file-text2'></use></svg></label><input id='data-e5b38c4f-efa1-47db-8cea-daf6d863d7e7' class='xr-var-data-in' type='checkbox'><label for='data-e5b38c4f-efa1-47db-8cea-daf6d863d7e7' title='Show/Hide data repr'><svg class='icon xr-icon-database'><use xlink:href='#icon-database'></use></svg></label><div class='xr-var-attrs'><dl class='xr-attrs'><dt><span>standard_name :</span></dt><dd>latitude</dd><dt><span>long_name :</span></dt><dd>latitude</dd><dt><span>units :</span></dt><dd>degrees_north</dd><dt><span>axis :</span></dt><dd>Y</dd></dl></div><div class='xr-var-data'><pre>array([44. , 44.1, 44.2, 44.3, 44.4, 44.5, 44.6, 44.7, 44.8, 44.9, 45. , 45.1,\n",
       "       45.2, 45.3, 45.4, 45.5, 45.6, 45.7, 45.8, 45.9, 46. , 46.1, 46.2, 46.3,\n",
       "       46.4, 46.5, 46.6, 46.7, 46.8, 46.9, 47. , 47.1, 47.2, 47.3, 47.4, 47.5,\n",
       "       47.6, 47.7, 47.8, 47.9, 48. ])</pre></div></li></ul></div></li><li class='xr-section-item'><input id='section-a66b1de9-934f-4987-b2d0-817e76d1c32e' class='xr-section-summary-in' type='checkbox'  checked><label for='section-a66b1de9-934f-4987-b2d0-817e76d1c32e' class='xr-section-summary' >Data variables: <span>(2)</span></label><div class='xr-section-inline-details'></div><div class='xr-section-details'><ul class='xr-var-list'><li class='xr-var-item'><div class='xr-var-name'><span>time_bnds</span></div><div class='xr-var-dims'>(time, bnds)</div><div class='xr-var-dtype'>datetime64[ns]</div><div class='xr-var-preview xr-preview'>...</div><input id='attrs-516bd9f5-9533-451d-8805-fa57630eb1d3' class='xr-var-attrs-in' type='checkbox' disabled><label for='attrs-516bd9f5-9533-451d-8805-fa57630eb1d3' title='Show/Hide attributes'><svg class='icon xr-icon-file-text2'><use xlink:href='#icon-file-text2'></use></svg></label><input id='data-8f8ca7ce-d87d-4b77-b2d9-1e30cba50a6c' class='xr-var-data-in' type='checkbox'><label for='data-8f8ca7ce-d87d-4b77-b2d9-1e30cba50a6c' title='Show/Hide data repr'><svg class='icon xr-icon-database'><use xlink:href='#icon-database'></use></svg></label><div class='xr-var-attrs'><dl class='xr-attrs'></dl></div><div class='xr-var-data'><pre>array([[&#x27;1971-01-01T00:00:00.000000000&#x27;, &#x27;1971-01-02T00:00:00.000000000&#x27;],\n",
       "       [&#x27;1971-01-02T00:00:00.000000000&#x27;, &#x27;1971-01-03T00:00:00.000000000&#x27;],\n",
       "       [&#x27;1971-01-03T00:00:00.000000000&#x27;, &#x27;1971-01-04T00:00:00.000000000&#x27;],\n",
       "       ...,\n",
       "       [&#x27;1975-12-29T00:00:00.000000000&#x27;, &#x27;1975-12-30T00:00:00.000000000&#x27;],\n",
       "       [&#x27;1975-12-30T00:00:00.000000000&#x27;, &#x27;1975-12-31T00:00:00.000000000&#x27;],\n",
       "       [&#x27;1975-12-31T00:00:00.000000000&#x27;, &#x27;1976-01-01T00:00:00.000000000&#x27;]],\n",
       "      dtype=&#x27;datetime64[ns]&#x27;)</pre></div></li><li class='xr-var-item'><div class='xr-var-name'><span>tas</span></div><div class='xr-var-dims'>(time, lat, lon)</div><div class='xr-var-dtype'>float32</div><div class='xr-var-preview xr-preview'>...</div><input id='attrs-f4e9ec60-6565-44b5-a145-6804e3d13285' class='xr-var-attrs-in' type='checkbox' ><label for='attrs-f4e9ec60-6565-44b5-a145-6804e3d13285' title='Show/Hide attributes'><svg class='icon xr-icon-file-text2'><use xlink:href='#icon-file-text2'></use></svg></label><input id='data-96367756-9ecc-492a-9f74-ab6d4da8058a' class='xr-var-data-in' type='checkbox'><label for='data-96367756-9ecc-492a-9f74-ab6d4da8058a' title='Show/Hide data repr'><svg class='icon xr-icon-database'><use xlink:href='#icon-database'></use></svg></label><div class='xr-var-attrs'><dl class='xr-attrs'><dt><span>standard_name :</span></dt><dd>air_temperature</dd><dt><span>long_name :</span></dt><dd>Near-Surface Air Temperature</dd><dt><span>units :</span></dt><dd>K</dd><dt><span>comment :</span></dt><dd>daily-mean near-surface (usually, 2 meter) air temperature.</dd><dt><span>cell_methods :</span></dt><dd>time: mean</dd><dt><span>history :</span></dt><dd>2016-02-01T11:13:29Z altered by CMOR: Treated scalar dimension: &#x27;height&#x27;.</dd><dt><span>associated_files :</span></dt><dd>gridspecFile: gridspec_atmos_fx_MPI-CSC-REMO2009_historical_r0i0p0.nc</dd></dl></div><div class='xr-var-data'><pre>[4566826 values with dtype=float32]</pre></div></li></ul></div></li><li class='xr-section-item'><input id='section-f157ea1e-b794-4917-aa95-9156fc9e23f6' class='xr-section-summary-in' type='checkbox'  ><label for='section-f157ea1e-b794-4917-aa95-9156fc9e23f6' class='xr-section-summary' >Attributes: <span>(31)</span></label><div class='xr-section-inline-details'></div><div class='xr-section-details'><dl class='xr-attrs'><dt><span>CDI :</span></dt><dd>Climate Data Interface version ?? (http://mpimet.mpg.de/cdi)</dd><dt><span>history :</span></dt><dd>Fri Mar 13 11:20:15 2020: cdo sellonlatbox,5,11,44,48 /tank23/exports/CRA_10yrs/10yrs/MPI-M-MPI-ESM-LR_MPI-CSC-REMO2009_v1/historical/tas/tas_EUR-11_MPI-M-MPI-ESM-LR_historical_r1i1p1_MPI-CSC-REMO2009_v1_day_19710101-19751231_LL.nc /tank23/exports/CRA_10yrs/EUR-11N/MPI-M-MPI-ESM-LR_MPI-CSC-REMO2009_v1/historical/tas/reduced_tas_EUR-11_MPI-M-MPI-ESM-LR_historical_r1i1p1_MPI-CSC-REMO2009_v1_day_19710101-19751231_LL.nc\n",
       "Sat Jan 12 13:43:40 2019: cdo remapbil,llgriddesSCA.txt .././EUR-11/MPI-M-MPI-ESM-LR_MPI-CSC-REMO2009_v1/historical/tas/tas_EUR-11_MPI-M-MPI-ESM-LR_historical_r1i1p1_MPI-CSC-REMO2009_v1_day_19710101-19751231.nc ./EUR-11/MPI-M-MPI-ESM-LR_MPI-CSC-REMO2009_v1/historical/tas/tas_EUR-11_MPI-M-MPI-ESM-LR_historical_r1i1p1_MPI-CSC-REMO2009_v1_day_19710101-19751231_LL.nc\n",
       "2016-02-01T11:13:30Z CMOR rewrote data to comply with CF standards and CORDEX requirements.</dd><dt><span>source :</span></dt><dd>MPI-CSC-REMO2009</dd><dt><span>institution :</span></dt><dd>Helmholtz-Zentrum Geesthacht, Climate Service Center, Max Planck Institute for Meteorology</dd><dt><span>Conventions :</span></dt><dd>CF-1.4</dd><dt><span>institute_id :</span></dt><dd>MPI-CSC</dd><dt><span>experiment_id :</span></dt><dd>historical</dd><dt><span>model_id :</span></dt><dd>MPI-CSC-REMO2009</dd><dt><span>contact :</span></dt><dd>gerics-cordex@hzg.de</dd><dt><span>comment :</span></dt><dd>CORDEX Europe RCM REMO 0.11 deg EUR-11</dd><dt><span>references :</span></dt><dd>http://www.remo-rcm.de/</dd><dt><span>initialization_method :</span></dt><dd>1</dd><dt><span>physics_version :</span></dt><dd>1</dd><dt><span>tracking_id :</span></dt><dd>de091c02-6498-4175-9b1e-4c794ed3216d</dd><dt><span>CORDEX_domain :</span></dt><dd>EUR-11</dd><dt><span>driving_experiment :</span></dt><dd>MPI-M-MPI-ESM-LR, historical, r1i1p1</dd><dt><span>driving_model_id :</span></dt><dd>MPI-M-MPI-ESM-LR</dd><dt><span>driving_model_ensemble_member :</span></dt><dd>r1i1p1</dd><dt><span>driving_experiment_name :</span></dt><dd>historical</dd><dt><span>rcm_version_id :</span></dt><dd>v1</dd><dt><span>product :</span></dt><dd>output</dd><dt><span>experiment :</span></dt><dd>historical</dd><dt><span>frequency :</span></dt><dd>day</dd><dt><span>creation_date :</span></dt><dd>2016-02-01T11:13:30Z</dd><dt><span>project_id :</span></dt><dd>CORDEX</dd><dt><span>table_id :</span></dt><dd>Table day (March 2015) 6f55fe4ad23cded422652f83a747ce32</dd><dt><span>title :</span></dt><dd>MPI-CSC-REMO2009 model output prepared for CORDEX historical</dd><dt><span>modeling_realm :</span></dt><dd>atmos</dd><dt><span>realization :</span></dt><dd>1</dd><dt><span>cmor_version :</span></dt><dd>2.9.1</dd><dt><span>CDO :</span></dt><dd>Climate Data Operators version 1.9.3 (http://mpimet.mpg.de/cdo)</dd></dl></div></li></ul></div></div>"
      ],
      "text/plain": [
       "<xarray.Dataset>\n",
       "Dimensions:    (time: 1826, bnds: 2, lon: 61, lat: 41)\n",
       "Coordinates:\n",
       "  * time       (time) datetime64[ns] 1971-01-01T12:00:00 ... 1975-12-31T12:00:00\n",
       "  * lon        (lon) float64 5.0 5.1 5.2 5.3 5.4 ... 10.6 10.7 10.8 10.9 11.0\n",
       "  * lat        (lat) float64 44.0 44.1 44.2 44.3 44.4 ... 47.7 47.8 47.9 48.0\n",
       "Dimensions without coordinates: bnds\n",
       "Data variables:\n",
       "    time_bnds  (time, bnds) datetime64[ns] ...\n",
       "    tas        (time, lat, lon) float32 ...\n",
       "Attributes: (12/31)\n",
       "    CDI:                            Climate Data Interface version ?? (http:/...\n",
       "    history:                        Fri Mar 13 11:20:15 2020: cdo sellonlatbo...\n",
       "    source:                         MPI-CSC-REMO2009\n",
       "    institution:                    Helmholtz-Zentrum Geesthacht, Climate Ser...\n",
       "    Conventions:                    CF-1.4\n",
       "    institute_id:                   MPI-CSC\n",
       "    ...                             ...\n",
       "    table_id:                       Table day (March 2015) 6f55fe4ad23cded422...\n",
       "    title:                          MPI-CSC-REMO2009 model output prepared fo...\n",
       "    modeling_realm:                 atmos\n",
       "    realization:                    1\n",
       "    cmor_version:                   2.9.1\n",
       "    CDO:                            Climate Data Operators version 1.9.3 (htt..."
      ]
     },
     "execution_count": 27,
     "metadata": {},
     "output_type": "execute_result"
    }
   ],
   "source": [
    "import cartopy.crs as ccrs # for geographic plotting\n",
    "import cartopy.feature as cfeature\n",
    "from IPython.display import Image\n",
    "import xarray as xr\n",
    "import xclim as xc\n",
    "import matplotlib.pyplot as plt\n",
    "import numpy as np\n",
    "import pandas as pd\n",
    "import seaborn as sns\n",
    "import xclim as xc\n",
    "import xarray as xr\n",
    "\n",
    "# insert a new cell and enter your solution\n",
    "#!pwd\n",
    "input_file = '/lhome/cra2022/l.quirino.2_2022/climriskdata/EUR-11N/MPI-M-MPI-ESM-LR_MPI-CSC-REMO2009_v1/historical/tas/reduced_tas_EUR-11_MPI-M-MPI-ESM-LR_historical_r1i1p1_MPI-CSC-REMO2009_v1_day_19710101-19751231_LL.nc'\n",
    "#input_file\n",
    "\n",
    "datos = xr.open_dataset(input_file)\n",
    "\n",
    "datos\n",
    "\n",
    "# a) time_bnds, tas\n",
    "\n",
    "# b) dimensions: Eg, lat, lon, time\n",
    "#    coordinates: labels of each point in the form of a Python-dictionary\n",
    "\n",
    "# c) Time: 1 to 1826 steps ('1971-01-01T12:00:00.000000000', ..., '1975-12-31T12:00:00.000000000')\n",
    "#    Lon: 5. to 11.\n",
    "#    Lat: 44 to 48 N\n",
    "\n",
    "# d) Long_name: Near-Surface Air Temperature\n",
    "#    Units: K"
   ]
  },
  {
   "cell_type": "code",
   "execution_count": 2,
   "metadata": {},
   "outputs": [
    {
     "data": {
      "text/plain": [
       "[<matplotlib.lines.Line2D at 0x7fc383e6ef40>]"
      ]
     },
     "execution_count": 2,
     "metadata": {},
     "output_type": "execute_result"
    },
    {
     "data": {
      "image/png": "[encoded data removed]",
      "text/plain": [
       "<Figure size 432x288 with 1 Axes>"
      ]
     },
     "metadata": {
      "needs_background": "light"
     },
     "output_type": "display_data"
    }
   ],
   "source": [
    "# e)\n",
    "\n",
    "# quick time series plot for Bern\n",
    "bern = datos.tas.sel(lat=46.9, lon=7.4, method='nearest')#.plot();\n",
    "\n",
    "# f) \n",
    "\n",
    "bern.plot()"
   ]
  },
  {
   "cell_type": "markdown",
   "metadata": {},
   "source": [
    "# Task 2"
   ]
  },
  {
   "cell_type": "markdown",
   "metadata": {},
   "source": [
    "a)\tSelect the years 1971, 1972-1974 from the file you used in task 1.\n",
    "\n",
    "b)\tSelect the `autumn (SON)` months for the years 1971-1975 (Hint: do it in two steps using a mask). \n",
    "\n",
    "c)\tCalculate `mean climatology` for the data selected in b)\n",
    "\n",
    "d) Calculate anomalies for autumn months in 1973 with respect to climatological mean (1971-1975) and visualize it with a quick plot\n"
   ]
  },
  {
   "cell_type": "code",
   "execution_count": 3,
   "metadata": {},
   "outputs": [
    {
     "data": {
      "text/html": [
       "<div><svg style=\"position: absolute; width: 0; height: 0; overflow: hidden\">\n",
       "<defs>\n",
       "<symbol id=\"icon-database\" viewBox=\"0 0 32 32\">\n",
       "<path d=\"M16 0c-8.837 0-16 2.239-16 5v4c0 2.761 7.163 5 16 5s16-2.239 16-5v-4c0-2.761-7.163-5-16-5z\"></path>\n",
       "<path d=\"M16 17c-8.837 0-16-2.239-16-5v6c0 2.761 7.163 5 16 5s16-2.239 16-5v-6c0 2.761-7.163 5-16 5z\"></path>\n",
       "<path d=\"M16 26c-8.837 0-16-2.239-16-5v6c0 2.761 7.163 5 16 5s16-2.239 16-5v-6c0 2.761-7.163 5-16 5z\"></path>\n",
       "</symbol>\n",
       "<symbol id=\"icon-file-text2\" viewBox=\"0 0 32 32\">\n",
       "<path d=\"M28.681 7.159c-0.694-0.947-1.662-2.053-2.724-3.116s-2.169-2.030-3.116-2.724c-1.612-1.182-2.393-1.319-2.841-1.319h-15.5c-1.378 0-2.5 1.121-2.5 2.5v27c0 1.378 1.122 2.5 2.5 2.5h23c1.378 0 2.5-1.122 2.5-2.5v-19.5c0-0.448-0.137-1.23-1.319-2.841zM24.543 5.457c0.959 0.959 1.712 1.825 2.268 2.543h-4.811v-4.811c0.718 0.556 1.584 1.309 2.543 2.268zM28 29.5c0 0.271-0.229 0.5-0.5 0.5h-23c-0.271 0-0.5-0.229-0.5-0.5v-27c0-0.271 0.229-0.5 0.5-0.5 0 0 15.499-0 15.5 0v7c0 0.552 0.448 1 1 1h7v19.5z\"></path>\n",
       "<path d=\"M23 26h-14c-0.552 0-1-0.448-1-1s0.448-1 1-1h14c0.552 0 1 0.448 1 1s-0.448 1-1 1z\"></path>\n",
       "<path d=\"M23 22h-14c-0.552 0-1-0.448-1-1s0.448-1 1-1h14c0.552 0 1 0.448 1 1s-0.448 1-1 1z\"></path>\n",
       "<path d=\"M23 18h-14c-0.552 0-1-0.448-1-1s0.448-1 1-1h14c0.552 0 1 0.448 1 1s-0.448 1-1 1z\"></path>\n",
       "</symbol>\n",
       "</defs>\n",
       "</svg>\n",
       "<style>/* CSS stylesheet for displaying xarray objects in jupyterlab.\n",
       " *\n",
       " */\n",
       "\n",
       ":root {\n",
       "  --xr-font-color0: var(--jp-content-font-color0, rgba(0, 0, 0, 1));\n",
       "  --xr-font-color2: var(--jp-content-font-color2, rgba(0, 0, 0, 0.54));\n",
       "  --xr-font-color3: var(--jp-content-font-color3, rgba(0, 0, 0, 0.38));\n",
       "  --xr-border-color: var(--jp-border-color2, #e0e0e0);\n",
       "  --xr-disabled-color: var(--jp-layout-color3, #bdbdbd);\n",
       "  --xr-background-color: var(--jp-layout-color0, white);\n",
       "  --xr-background-color-row-even: var(--jp-layout-color1, white);\n",
       "  --xr-background-color-row-odd: var(--jp-layout-color2, #eeeeee);\n",
       "}\n",
       "\n",
       "html[theme=dark],\n",
       "body.vscode-dark {\n",
       "  --xr-font-color0: rgba(255, 255, 255, 1);\n",
       "  --xr-font-color2: rgba(255, 255, 255, 0.54);\n",
       "  --xr-font-color3: rgba(255, 255, 255, 0.38);\n",
       "  --xr-border-color: #1F1F1F;\n",
       "  --xr-disabled-color: #515151;\n",
       "  --xr-background-color: #111111;\n",
       "  --xr-background-color-row-even: #111111;\n",
       "  --xr-background-color-row-odd: #313131;\n",
       "}\n",
       "\n",
       ".xr-wrap {\n",
       "  display: block !important;\n",
       "  min-width: 300px;\n",
       "  max-width: 700px;\n",
       "}\n",
       "\n",
       ".xr-text-repr-fallback {\n",
       "  /* fallback to plain text repr when CSS is not injected (untrusted notebook) */\n",
       "  display: none;\n",
       "}\n",
       "\n",
       ".xr-header {\n",
       "  padding-top: 6px;\n",
       "  padding-bottom: 6px;\n",
       "  margin-bottom: 4px;\n",
       "  border-bottom: solid 1px var(--xr-border-color);\n",
       "}\n",
       "\n",
       ".xr-header > div,\n",
       ".xr-header > ul {\n",
       "  display: inline;\n",
       "  margin-top: 0;\n",
       "  margin-bottom: 0;\n",
       "}\n",
       "\n",
       ".xr-obj-type,\n",
       ".xr-array-name {\n",
       "  margin-left: 2px;\n",
       "  margin-right: 10px;\n",
       "}\n",
       "\n",
       ".xr-obj-type {\n",
       "  color: var(--xr-font-color2);\n",
       "}\n",
       "\n",
       ".xr-sections {\n",
       "  padding-left: 0 !important;\n",
       "  display: grid;\n",
       "  grid-template-columns: 150px auto auto 1fr 20px 20px;\n",
       "}\n",
       "\n",
       ".xr-section-item {\n",
       "  display: contents;\n",
       "}\n",
       "\n",
       ".xr-section-item input {\n",
       "  display: none;\n",
       "}\n",
       "\n",
       ".xr-section-item input + label {\n",
       "  color: var(--xr-disabled-color);\n",
       "}\n",
       "\n",
       ".xr-section-item input:enabled + label {\n",
       "  cursor: pointer;\n",
       "  color: var(--xr-font-color2);\n",
       "}\n",
       "\n",
       ".xr-section-item input:enabled + label:hover {\n",
       "  color: var(--xr-font-color0);\n",
       "}\n",
       "\n",
       ".xr-section-summary {\n",
       "  grid-column: 1;\n",
       "  color: var(--xr-font-color2);\n",
       "  font-weight: 500;\n",
       "}\n",
       "\n",
       ".xr-section-summary > span {\n",
       "  display: inline-block;\n",
       "  padding-left: 0.5em;\n",
       "}\n",
       "\n",
       ".xr-section-summary-in:disabled + label {\n",
       "  color: var(--xr-font-color2);\n",
       "}\n",
       "\n",
       ".xr-section-summary-in + label:before {\n",
       "  display: inline-block;\n",
       "  content: '►';\n",
       "  font-size: 11px;\n",
       "  width: 15px;\n",
       "  text-align: center;\n",
       "}\n",
       "\n",
       ".xr-section-summary-in:disabled + label:before {\n",
       "  color: var(--xr-disabled-color);\n",
       "}\n",
       "\n",
       ".xr-section-summary-in:checked + label:before {\n",
       "  content: '▼';\n",
       "}\n",
       "\n",
       ".xr-section-summary-in:checked + label > span {\n",
       "  display: none;\n",
       "}\n",
       "\n",
       ".xr-section-summary,\n",
       ".xr-section-inline-details {\n",
       "  padding-top: 4px;\n",
       "  padding-bottom: 4px;\n",
       "}\n",
       "\n",
       ".xr-section-inline-details {\n",
       "  grid-column: 2 / -1;\n",
       "}\n",
       "\n",
       ".xr-section-details {\n",
       "  display: none;\n",
       "  grid-column: 1 / -1;\n",
       "  margin-bottom: 5px;\n",
       "}\n",
       "\n",
       ".xr-section-summary-in:checked ~ .xr-section-details {\n",
       "  display: contents;\n",
       "}\n",
       "\n",
       ".xr-array-wrap {\n",
       "  grid-column: 1 / -1;\n",
       "  display: grid;\n",
       "  grid-template-columns: 20px auto;\n",
       "}\n",
       "\n",
       ".xr-array-wrap > label {\n",
       "  grid-column: 1;\n",
       "  vertical-align: top;\n",
       "}\n",
       "\n",
       ".xr-preview {\n",
       "  color: var(--xr-font-color3);\n",
       "}\n",
       "\n",
       ".xr-array-preview,\n",
       ".xr-array-data {\n",
       "  padding: 0 5px !important;\n",
       "  grid-column: 2;\n",
       "}\n",
       "\n",
       ".xr-array-data,\n",
       ".xr-array-in:checked ~ .xr-array-preview {\n",
       "  display: none;\n",
       "}\n",
       "\n",
       ".xr-array-in:checked ~ .xr-array-data,\n",
       ".xr-array-preview {\n",
       "  display: inline-block;\n",
       "}\n",
       "\n",
       ".xr-dim-list {\n",
       "  display: inline-block !important;\n",
       "  list-style: none;\n",
       "  padding: 0 !important;\n",
       "  margin: 0;\n",
       "}\n",
       "\n",
       ".xr-dim-list li {\n",
       "  display: inline-block;\n",
       "  padding: 0;\n",
       "  margin: 0;\n",
       "}\n",
       "\n",
       ".xr-dim-list:before {\n",
       "  content: '(';\n",
       "}\n",
       "\n",
       ".xr-dim-list:after {\n",
       "  content: ')';\n",
       "}\n",
       "\n",
       ".xr-dim-list li:not(:last-child):after {\n",
       "  content: ',';\n",
       "  padding-right: 5px;\n",
       "}\n",
       "\n",
       ".xr-has-index {\n",
       "  font-weight: bold;\n",
       "}\n",
       "\n",
       ".xr-var-list,\n",
       ".xr-var-item {\n",
       "  display: contents;\n",
       "}\n",
       "\n",
       ".xr-var-item > div,\n",
       ".xr-var-item label,\n",
       ".xr-var-item > .xr-var-name span {\n",
       "  background-color: var(--xr-background-color-row-even);\n",
       "  margin-bottom: 0;\n",
       "}\n",
       "\n",
       ".xr-var-item > .xr-var-name:hover span {\n",
       "  padding-right: 5px;\n",
       "}\n",
       "\n",
       ".xr-var-list > li:nth-child(odd) > div,\n",
       ".xr-var-list > li:nth-child(odd) > label,\n",
       ".xr-var-list > li:nth-child(odd) > .xr-var-name span {\n",
       "  background-color: var(--xr-background-color-row-odd);\n",
       "}\n",
       "\n",
       ".xr-var-name {\n",
       "  grid-column: 1;\n",
       "}\n",
       "\n",
       ".xr-var-dims {\n",
       "  grid-column: 2;\n",
       "}\n",
       "\n",
       ".xr-var-dtype {\n",
       "  grid-column: 3;\n",
       "  text-align: right;\n",
       "  color: var(--xr-font-color2);\n",
       "}\n",
       "\n",
       ".xr-var-preview {\n",
       "  grid-column: 4;\n",
       "}\n",
       "\n",
       ".xr-var-name,\n",
       ".xr-var-dims,\n",
       ".xr-var-dtype,\n",
       ".xr-preview,\n",
       ".xr-attrs dt {\n",
       "  white-space: nowrap;\n",
       "  overflow: hidden;\n",
       "  text-overflow: ellipsis;\n",
       "  padding-right: 10px;\n",
       "}\n",
       "\n",
       ".xr-var-name:hover,\n",
       ".xr-var-dims:hover,\n",
       ".xr-var-dtype:hover,\n",
       ".xr-attrs dt:hover {\n",
       "  overflow: visible;\n",
       "  width: auto;\n",
       "  z-index: 1;\n",
       "}\n",
       "\n",
       ".xr-var-attrs,\n",
       ".xr-var-data {\n",
       "  display: none;\n",
       "  background-color: var(--xr-background-color) !important;\n",
       "  padding-bottom: 5px !important;\n",
       "}\n",
       "\n",
       ".xr-var-attrs-in:checked ~ .xr-var-attrs,\n",
       ".xr-var-data-in:checked ~ .xr-var-data {\n",
       "  display: block;\n",
       "}\n",
       "\n",
       ".xr-var-data > table {\n",
       "  float: right;\n",
       "}\n",
       "\n",
       ".xr-var-name span,\n",
       ".xr-var-data,\n",
       ".xr-attrs {\n",
       "  padding-left: 25px !important;\n",
       "}\n",
       "\n",
       ".xr-attrs,\n",
       ".xr-var-attrs,\n",
       ".xr-var-data {\n",
       "  grid-column: 1 / -1;\n",
       "}\n",
       "\n",
       "dl.xr-attrs {\n",
       "  padding: 0;\n",
       "  margin: 0;\n",
       "  display: grid;\n",
       "  grid-template-columns: 125px auto;\n",
       "}\n",
       "\n",
       ".xr-attrs dt,\n",
       ".xr-attrs dd {\n",
       "  padding: 0;\n",
       "  margin: 0;\n",
       "  float: left;\n",
       "  padding-right: 10px;\n",
       "  width: auto;\n",
       "}\n",
       "\n",
       ".xr-attrs dt {\n",
       "  font-weight: normal;\n",
       "  grid-column: 1;\n",
       "}\n",
       "\n",
       ".xr-attrs dt:hover span {\n",
       "  display: inline-block;\n",
       "  background: var(--xr-background-color);\n",
       "  padding-right: 10px;\n",
       "}\n",
       "\n",
       ".xr-attrs dd {\n",
       "  grid-column: 2;\n",
       "  white-space: pre-wrap;\n",
       "  word-break: break-all;\n",
       "}\n",
       "\n",
       ".xr-icon-database,\n",
       ".xr-icon-file-text2 {\n",
       "  display: inline-block;\n",
       "  vertical-align: middle;\n",
       "  width: 1em;\n",
       "  height: 1.5em !important;\n",
       "  stroke-width: 0;\n",
       "  stroke: currentColor;\n",
       "  fill: currentColor;\n",
       "}\n",
       "</style><pre class='xr-text-repr-fallback'>&lt;xarray.DataArray &#x27;tas&#x27; (time: 1461, lat: 41, lon: 61)&gt;\n",
       "[3653961 values with dtype=float32]\n",
       "Coordinates:\n",
       "  * time     (time) datetime64[ns] 1972-01-01T12:00:00 ... 1975-12-31T12:00:00\n",
       "  * lon      (lon) float64 5.0 5.1 5.2 5.3 5.4 5.5 ... 10.6 10.7 10.8 10.9 11.0\n",
       "  * lat      (lat) float64 44.0 44.1 44.2 44.3 44.4 ... 47.6 47.7 47.8 47.9 48.0\n",
       "Attributes:\n",
       "    standard_name:     air_temperature\n",
       "    long_name:         Near-Surface Air Temperature\n",
       "    units:             K\n",
       "    comment:           daily-mean near-surface (usually, 2 meter) air tempera...\n",
       "    cell_methods:      time: mean\n",
       "    history:           2016-02-01T11:13:29Z altered by CMOR: Treated scalar d...\n",
       "    associated_files:  gridspecFile: gridspec_atmos_fx_MPI-CSC-REMO2009_histo...</pre><div class='xr-wrap' style='display:none'><div class='xr-header'><div class='xr-obj-type'>xarray.DataArray</div><div class='xr-array-name'>'tas'</div><ul class='xr-dim-list'><li><span class='xr-has-index'>time</span>: 1461</li><li><span class='xr-has-index'>lat</span>: 41</li><li><span class='xr-has-index'>lon</span>: 61</li></ul></div><ul class='xr-sections'><li class='xr-section-item'><div class='xr-array-wrap'><input id='section-85e8cde0-2056-4ef8-9dbb-2e4eaae22575' class='xr-array-in' type='checkbox' checked><label for='section-85e8cde0-2056-4ef8-9dbb-2e4eaae22575' title='Show/hide data repr'><svg class='icon xr-icon-database'><use xlink:href='#icon-database'></use></svg></label><div class='xr-array-preview xr-preview'><span>...</span></div><div class='xr-array-data'><pre>[3653961 values with dtype=float32]</pre></div></div></li><li class='xr-section-item'><input id='section-837c9d74-acdb-4fdd-89a1-b58bca257b60' class='xr-section-summary-in' type='checkbox'  checked><label for='section-837c9d74-acdb-4fdd-89a1-b58bca257b60' class='xr-section-summary' >Coordinates: <span>(3)</span></label><div class='xr-section-inline-details'></div><div class='xr-section-details'><ul class='xr-var-list'><li class='xr-var-item'><div class='xr-var-name'><span class='xr-has-index'>time</span></div><div class='xr-var-dims'>(time)</div><div class='xr-var-dtype'>datetime64[ns]</div><div class='xr-var-preview xr-preview'>1972-01-01T12:00:00 ... 1975-12-...</div><input id='attrs-815e3f8f-8f29-4baf-9ab4-f3a6542ea761' class='xr-var-attrs-in' type='checkbox' ><label for='attrs-815e3f8f-8f29-4baf-9ab4-f3a6542ea761' title='Show/Hide attributes'><svg class='icon xr-icon-file-text2'><use xlink:href='#icon-file-text2'></use></svg></label><input id='data-f0a3dbdb-681f-4065-9e4f-f4ef514d972d' class='xr-var-data-in' type='checkbox'><label for='data-f0a3dbdb-681f-4065-9e4f-f4ef514d972d' title='Show/Hide data repr'><svg class='icon xr-icon-database'><use xlink:href='#icon-database'></use></svg></label><div class='xr-var-attrs'><dl class='xr-attrs'><dt><span>standard_name :</span></dt><dd>time</dd><dt><span>long_name :</span></dt><dd>time</dd><dt><span>bounds :</span></dt><dd>time_bnds</dd><dt><span>axis :</span></dt><dd>T</dd></dl></div><div class='xr-var-data'><pre>array([&#x27;1972-01-01T12:00:00.000000000&#x27;, &#x27;1972-01-02T12:00:00.000000000&#x27;,\n",
       "       &#x27;1972-01-03T12:00:00.000000000&#x27;, ..., &#x27;1975-12-29T12:00:00.000000000&#x27;,\n",
       "       &#x27;1975-12-30T12:00:00.000000000&#x27;, &#x27;1975-12-31T12:00:00.000000000&#x27;],\n",
       "      dtype=&#x27;datetime64[ns]&#x27;)</pre></div></li><li class='xr-var-item'><div class='xr-var-name'><span class='xr-has-index'>lon</span></div><div class='xr-var-dims'>(lon)</div><div class='xr-var-dtype'>float64</div><div class='xr-var-preview xr-preview'>5.0 5.1 5.2 5.3 ... 10.8 10.9 11.0</div><input id='attrs-c624134e-cd1a-4758-b0ad-2434f78dff1d' class='xr-var-attrs-in' type='checkbox' ><label for='attrs-c624134e-cd1a-4758-b0ad-2434f78dff1d' title='Show/Hide attributes'><svg class='icon xr-icon-file-text2'><use xlink:href='#icon-file-text2'></use></svg></label><input id='data-9ab2885f-ee7e-453c-b519-1be5eba1cd22' class='xr-var-data-in' type='checkbox'><label for='data-9ab2885f-ee7e-453c-b519-1be5eba1cd22' title='Show/Hide data repr'><svg class='icon xr-icon-database'><use xlink:href='#icon-database'></use></svg></label><div class='xr-var-attrs'><dl class='xr-attrs'><dt><span>standard_name :</span></dt><dd>longitude</dd><dt><span>long_name :</span></dt><dd>longitude</dd><dt><span>units :</span></dt><dd>degrees_east</dd><dt><span>axis :</span></dt><dd>X</dd></dl></div><div class='xr-var-data'><pre>array([ 5. ,  5.1,  5.2,  5.3,  5.4,  5.5,  5.6,  5.7,  5.8,  5.9,  6. ,  6.1,\n",
       "        6.2,  6.3,  6.4,  6.5,  6.6,  6.7,  6.8,  6.9,  7. ,  7.1,  7.2,  7.3,\n",
       "        7.4,  7.5,  7.6,  7.7,  7.8,  7.9,  8. ,  8.1,  8.2,  8.3,  8.4,  8.5,\n",
       "        8.6,  8.7,  8.8,  8.9,  9. ,  9.1,  9.2,  9.3,  9.4,  9.5,  9.6,  9.7,\n",
       "        9.8,  9.9, 10. , 10.1, 10.2, 10.3, 10.4, 10.5, 10.6, 10.7, 10.8, 10.9,\n",
       "       11. ])</pre></div></li><li class='xr-var-item'><div class='xr-var-name'><span class='xr-has-index'>lat</span></div><div class='xr-var-dims'>(lat)</div><div class='xr-var-dtype'>float64</div><div class='xr-var-preview xr-preview'>44.0 44.1 44.2 ... 47.8 47.9 48.0</div><input id='attrs-98ff8436-cb82-4154-b747-c91fb3adbb91' class='xr-var-attrs-in' type='checkbox' ><label for='attrs-98ff8436-cb82-4154-b747-c91fb3adbb91' title='Show/Hide attributes'><svg class='icon xr-icon-file-text2'><use xlink:href='#icon-file-text2'></use></svg></label><input id='data-d831fdbf-8d68-47cf-8d59-9b9780a60cf0' class='xr-var-data-in' type='checkbox'><label for='data-d831fdbf-8d68-47cf-8d59-9b9780a60cf0' title='Show/Hide data repr'><svg class='icon xr-icon-database'><use xlink:href='#icon-database'></use></svg></label><div class='xr-var-attrs'><dl class='xr-attrs'><dt><span>standard_name :</span></dt><dd>latitude</dd><dt><span>long_name :</span></dt><dd>latitude</dd><dt><span>units :</span></dt><dd>degrees_north</dd><dt><span>axis :</span></dt><dd>Y</dd></dl></div><div class='xr-var-data'><pre>array([44. , 44.1, 44.2, 44.3, 44.4, 44.5, 44.6, 44.7, 44.8, 44.9, 45. , 45.1,\n",
       "       45.2, 45.3, 45.4, 45.5, 45.6, 45.7, 45.8, 45.9, 46. , 46.1, 46.2, 46.3,\n",
       "       46.4, 46.5, 46.6, 46.7, 46.8, 46.9, 47. , 47.1, 47.2, 47.3, 47.4, 47.5,\n",
       "       47.6, 47.7, 47.8, 47.9, 48. ])</pre></div></li></ul></div></li><li class='xr-section-item'><input id='section-c9f463e9-9bc2-445a-a02d-5cb620fe1120' class='xr-section-summary-in' type='checkbox'  checked><label for='section-c9f463e9-9bc2-445a-a02d-5cb620fe1120' class='xr-section-summary' >Attributes: <span>(7)</span></label><div class='xr-section-inline-details'></div><div class='xr-section-details'><dl class='xr-attrs'><dt><span>standard_name :</span></dt><dd>air_temperature</dd><dt><span>long_name :</span></dt><dd>Near-Surface Air Temperature</dd><dt><span>units :</span></dt><dd>K</dd><dt><span>comment :</span></dt><dd>daily-mean near-surface (usually, 2 meter) air temperature.</dd><dt><span>cell_methods :</span></dt><dd>time: mean</dd><dt><span>history :</span></dt><dd>2016-02-01T11:13:29Z altered by CMOR: Treated scalar dimension: &#x27;height&#x27;.</dd><dt><span>associated_files :</span></dt><dd>gridspecFile: gridspec_atmos_fx_MPI-CSC-REMO2009_historical_r0i0p0.nc</dd></dl></div></li></ul></div></div>"
      ],
      "text/plain": [
       "<xarray.DataArray 'tas' (time: 1461, lat: 41, lon: 61)>\n",
       "[3653961 values with dtype=float32]\n",
       "Coordinates:\n",
       "  * time     (time) datetime64[ns] 1972-01-01T12:00:00 ... 1975-12-31T12:00:00\n",
       "  * lon      (lon) float64 5.0 5.1 5.2 5.3 5.4 5.5 ... 10.6 10.7 10.8 10.9 11.0\n",
       "  * lat      (lat) float64 44.0 44.1 44.2 44.3 44.4 ... 47.6 47.7 47.8 47.9 48.0\n",
       "Attributes:\n",
       "    standard_name:     air_temperature\n",
       "    long_name:         Near-Surface Air Temperature\n",
       "    units:             K\n",
       "    comment:           daily-mean near-surface (usually, 2 meter) air tempera...\n",
       "    cell_methods:      time: mean\n",
       "    history:           2016-02-01T11:13:29Z altered by CMOR: Treated scalar d...\n",
       "    associated_files:  gridspecFile: gridspec_atmos_fx_MPI-CSC-REMO2009_histo..."
      ]
     },
     "execution_count": 3,
     "metadata": {},
     "output_type": "execute_result"
    }
   ],
   "source": [
    "# a) \n",
    "\n",
    "temp71 = datos.tas.sel(time=slice('1971-01-01', '1971-12-31' ))\n",
    "\n",
    "temp71\n",
    "\n",
    "temp72_75 = datos.tas.sel(time=slice('1972-01-01', '1975-12-31' ))\n",
    "\n",
    "temp72_75"
   ]
  },
  {
   "cell_type": "code",
   "execution_count": 4,
   "metadata": {},
   "outputs": [
    {
     "data": {
      "text/plain": [
       "(array([3.50000e+01, 5.16000e+02, 3.92000e+03, 1.91070e+04, 8.66750e+04,\n",
       "        2.45783e+05, 3.97229e+05, 2.77680e+05, 9.94680e+04, 7.54200e+03]),\n",
       " array([241.98347, 248.1601 , 254.3367 , 260.5133 , 266.68994, 272.86655,\n",
       "        279.04315, 285.21976, 291.39636, 297.573  , 303.7496 ],\n",
       "       dtype=float32),\n",
       " <BarContainer object of 10 artists>)"
      ]
     },
     "execution_count": 4,
     "metadata": {},
     "output_type": "execute_result"
    },
    {
     "data": {
      "image/png": "[encoded data removed]",
      "text/plain": [
       "<Figure size 432x288 with 1 Axes>"
      ]
     },
     "metadata": {
      "needs_background": "light"
     },
     "output_type": "display_data"
    }
   ],
   "source": [
    "# b) \n",
    "\n",
    "time_mask_autumn = datos.time.dt.month.isin([9,10,11]) # isin selects timestamps that belong to months 9, 10 and 11\n",
    "\n",
    "time_mask_autumn\n",
    "\n",
    "temp71_75_SON = datos.tas[time_mask_autumn,:,:]\n",
    "\n",
    "temp71_75_SON.plot()"
   ]
  },
  {
   "cell_type": "code",
   "execution_count": 5,
   "metadata": {},
   "outputs": [
    {
     "data": {
      "text/plain": [
       "<matplotlib.collections.QuadMesh at 0x7fc2fc8be610>"
      ]
     },
     "execution_count": 5,
     "metadata": {},
     "output_type": "execute_result"
    },
    {
     "data": {
      "image/png": "[encoded data removed]",
      "text/plain": [
       "<Figure size 432x288 with 2 Axes>"
      ]
     },
     "metadata": {
      "needs_background": "light"
     },
     "output_type": "display_data"
    }
   ],
   "source": [
    "# c)\n",
    "\n",
    "clima_SON = temp71_75_SON.mean(\"time\")\n",
    "\n",
    "clima_SON.plot()"
   ]
  },
  {
   "cell_type": "code",
   "execution_count": 6,
   "metadata": {},
   "outputs": [
    {
     "data": {
      "text/plain": [
       "<matplotlib.collections.QuadMesh at 0x7fc2fc829160>"
      ]
     },
     "execution_count": 6,
     "metadata": {},
     "output_type": "execute_result"
    },
    {
     "data": {
      "image/png": "[encoded data removed]",
      "text/plain": [
       "<Figure size 432x288 with 2 Axes>"
      ]
     },
     "metadata": {
      "needs_background": "light"
     },
     "output_type": "display_data"
    }
   ],
   "source": [
    "# d)\n",
    "\n",
    "temp_SON73 = datos.tas.sel(time=slice('1973-09-01', '1973-11-30')).mean(\"time\")\n",
    "\n",
    "temp_SON73\n",
    "\n",
    "anom = temp_SON73 - clima_SON\n",
    "\n",
    "anom.plot(cmap='RdBu_r', vmin=-2.0, vmax=+2.0, extend='both')"
   ]
  },
  {
   "cell_type": "markdown",
   "metadata": {},
   "source": [
    "# Task 3"
   ]
  },
  {
   "cell_type": "markdown",
   "metadata": {},
   "source": [
    "Take a temperature file (e.g. tas.nc).\n",
    "\n",
    "a) Convert the temperature from `degrees Kelvin` into `degrees Celsius` by subtracting -273.15 from the variable.\n",
    "\n",
    "b) Correct the `unit` attribute of the modified file to degree Celsius.\n",
    "\n",
    "c) Select the first time step of the modified file and verify the temperature using a quick plot. Are the automatic labelling in the colorbar in correct units, that is degree Celsius? Save only the first time step as a `.nc` file to the disk.\n",
    "\n",
    "d) Convert temperature unit same as in a) for tas.nc but by using `xclim` \n",
    "\n",
    "e) Check the `unit` attribute in the file. Did `xclim` correct it automatically?"
   ]
  },
  {
   "cell_type": "code",
   "execution_count": 7,
   "metadata": {},
   "outputs": [
    {
     "data": {
      "text/plain": [
       "<matplotlib.collections.QuadMesh at 0x7fc2fc6fa280>"
      ]
     },
     "execution_count": 7,
     "metadata": {},
     "output_type": "execute_result"
    },
    {
     "data": {
      "image/png": "[encoded data removed]",
      "text/plain": [
       "<Figure size 432x288 with 2 Axes>"
      ]
     },
     "metadata": {
      "needs_background": "light"
     },
     "output_type": "display_data"
    }
   ],
   "source": [
    "# a) \n",
    "\n",
    "t2m_C = datos.tas - 273.15\n",
    "\n",
    "# b)\n",
    "\n",
    "t2m_C.attrs['units'] = '°C'\n",
    "\n",
    "t2m_C\n",
    "\n",
    "# c)\n",
    "\n",
    "t2m_0 = t2m_C.isel(time=0)\n",
    "\n",
    "t2m_0.plot()\n"
   ]
  },
  {
   "cell_type": "code",
   "execution_count": 8,
   "metadata": {},
   "outputs": [
    {
     "data": {
      "text/plain": [
       "'°C'"
      ]
     },
     "execution_count": 8,
     "metadata": {},
     "output_type": "execute_result"
    }
   ],
   "source": [
    "# d)\n",
    "del t2m_C\n",
    "t2m_C = xc.units.convert_units_to(datos.tas, '°C')\n",
    "\n",
    "t2m_C.attrs[\"units\"]"
   ]
  },
  {
   "cell_type": "markdown",
   "metadata": {},
   "source": [
    "# Task 4 "
   ]
  },
  {
   "cell_type": "markdown",
   "metadata": {},
   "source": [
    "Compare the maximum summer temperature of 1972 and 1973 for all the grid points.\n",
    "\n",
    "*Hint:* Select the two years first in seperate variables (`Tmax_1972`, `Tmax_1973`) and calculate the difference."
   ]
  },
  {
   "cell_type": "code",
   "execution_count": 9,
   "metadata": {},
   "outputs": [
    {
     "data": {
      "text/plain": [
       "<matplotlib.collections.QuadMesh at 0x7fc2fc6493a0>"
      ]
     },
     "execution_count": 9,
     "metadata": {},
     "output_type": "execute_result"
    },
    {
     "data": {
      "image/png": "[encoded data removed]",
      "text/plain": [
       "<Figure size 432x288 with 2 Axes>"
      ]
     },
     "metadata": {
      "needs_background": "light"
     },
     "output_type": "display_data"
    }
   ],
   "source": [
    "tmx_72 = datos.tas.sel(time=slice('1972')).max(\"time\")\n",
    "tmx_73 = datos.tas.sel(time=slice('1973')).max(\"time\")\n",
    "\n",
    "diff_tmx = tmx_72 - tmx_73\n",
    "\n",
    "diff_tmx.plot()"
   ]
  },
  {
   "cell_type": "markdown",
   "metadata": {},
   "source": [
    "# Task 5"
   ]
  },
  {
   "cell_type": "markdown",
   "metadata": {},
   "source": [
    "\n",
    "\n",
    " Calculate the 16th and 84th quantiles for the `precipitation rate`.\n",
    "\n",
    "\n",
    "*Use a PR file in EUR-11N*\n",
    "\n",
    "\n"
   ]
  },
  {
   "cell_type": "code",
   "execution_count": 10,
   "metadata": {},
   "outputs": [],
   "source": [
    "pr_file = '/lhome/cra2022/climriskdata/EUR-11N/MPI-M-MPI-ESM-LR_MPI-CSC-REMO2009_v1/historical/pr/reduced_pr_EUR-11_MPI-M-MPI-ESM-LR_historical_r1i1p1_MPI-CSC-REMO2009_v1_day_19710101-19751231_LL.nc'\n",
    "\n",
    "ds_pr = xr.open_dataset(pr_file)\n",
    "\n",
    "ds_pr\n",
    "\n",
    "pr_q16 = ds_pr.pr.quantile(q=0.16, dim='time')\n",
    "pr_q84 = ds_pr.pr.quantile(q=0.84, dim='time')\n"
   ]
  },
  {
   "cell_type": "code",
   "execution_count": 11,
   "metadata": {},
   "outputs": [],
   "source": [
    "del datos"
   ]
  },
  {
   "cell_type": "markdown",
   "metadata": {},
   "source": [
    "# Advanced: Task 6"
   ]
  },
  {
   "cell_type": "markdown",
   "metadata": {},
   "source": [
    "Calculate the `number of freezing days` (i.e. days with maximum temperature below 0°C ) for all the grid points for the file used in Task 3. Watch out for the units! \n",
    "\n",
    "a) Use `masking concept` to calculate it. The masked file will contain a binary field which is set to `True` if the temperature is below 0°C and to `False` everywhere else.\n",
    "Then use `sum()` to add up the freezing days you have calculated over the whole period and have a quick look at the result with a quick plot. \n",
    "\n",
    "b) Use `xclim.indicators.icclim.ID()` to calculate. Check the results with both degree Celsius and degree Kelvin input file. Does `xclim` takes care of units automatically? \n",
    "\n"
   ]
  },
  {
   "cell_type": "code",
   "execution_count": 12,
   "metadata": {},
   "outputs": [
    {
     "name": "stdout",
     "output_type": "stream",
     "text": [
      "Days with Tmax_C < 0 °C are 534196\n",
      "Days with freeze_d_Tmax < 0 °C are 534196\n"
     ]
    },
    {
     "data": {
      "image/png": "[encoded data removed]",
      "text/plain": [
       "<Figure size 432x288 with 2 Axes>"
      ]
     },
     "metadata": {
      "needs_background": "light"
     },
     "output_type": "display_data"
    }
   ],
   "source": [
    "t_max = xr.open_dataset('/lhome/cra2022/l.quirino.2_2022/climriskdata/EUR-11N/MPI-M-MPI-ESM-LR_MPI-CSC-REMO2009_v1/historical/tasmax/reduced_tasmax_EUR-11_MPI-M-MPI-ESM-LR_historical_r1i1p1_MPI-CSC-REMO2009_v1_day_19710101-19751231_LL.nc')\n",
    "\n",
    "Tmax_C = xc.units.convert_units_to(t_max.tasmax, 'degC')\n",
    "\n",
    "# a)\n",
    "\n",
    "Tmax_C0 = Tmax_C < 0 \n",
    "count = Tmax_C0.sum().values\n",
    "print('Days with Tmax_C < 0 °C are {}'.format(count))\n",
    "\n",
    "Tmax_C0.sum('time').plot()\n",
    "\n",
    "# b) \n",
    "\n",
    "freeze_d_Tmax = xc.indices.tx_days_below(Tmax_C, '0 degC')\n",
    "count2 = freeze_d_Tmax.sum().values\n",
    "\n",
    "print('Days with freeze_d_Tmax < 0 °C are {}'.format(count2))\n"
   ]
  },
  {
   "cell_type": "code",
   "execution_count": 13,
   "metadata": {},
   "outputs": [],
   "source": [
    "#del Tmax, t_max"
   ]
  },
  {
   "cell_type": "markdown",
   "metadata": {},
   "source": [
    "# Advanced: Task 7"
   ]
  },
  {
   "cell_type": "markdown",
   "metadata": {},
   "source": [
    "Compare the values of `Consecutive summer days (CSU)` and `Tropical Nights Index (TNI)` for a future temperature scenario with current temperatures. What could that imply for our energy consumption? Use `Tmax`  for CSU and `Tmin` for TNI \n",
    "\n",
    "`Note`: Since the reduced dataset, EUR-11N folder contains only years 1971-1975, use EUR-11 folder containing 1971-2000 for current file. Slice out 5 years of data from the current file (1996-2000) and domain of Switzerland, that is latitiude: 44-48 deg N and longitude: 5, 11 deg E. \n",
    "\n",
    "`current-file:` /lhome/cra2022/YOURHOME/climriskdata/EUR-11/MPI-M-MPI-ESM-LR_MPI-CSC-REMO2009_v1/historical/tasmax/tasmax_EUR-11_MPI-M-MPI-ESM-LR_historical_r1i1p1_MPI-CSC-REMO2009_v1_day_19710101-20001231_LL.nc\n",
    "\n",
    "`future-file:` /lhome/cra2022/YOURHOME/climriskdata/EUR-11N/MPI-M-MPI-ESM-LR_MPI-CSC-REMO2009_v1/rcp85/tasmax/reduced_tasmax_EUR-11_MPI-M-MPI-ESM-LR_rcp85_r1i1p1_MPI-CSC-REMO2009_v1_day_20710101-20751231_LL.nc"
   ]
  },
  {
   "cell_type": "code",
   "execution_count": 16,
   "metadata": {},
   "outputs": [],
   "source": [
    "current_file = '/lhome/cra2022/l.quirino.2_2022/climriskdata/EUR-11/MPI-M-MPI-ESM-LR_MPI-CSC-REMO2009_v1/historical/tasmin/tasmin_EUR-11_MPI-M-MPI-ESM-LR_historical_r1i1p1_MPI-CSC-REMO2009_v1_day_19710101-20001231_LL.nc'\n",
    "\n",
    "future_file = '/lhome/cra2022/l.quirino.2_2022/climriskdata/EUR-11N/MPI-M-MPI-ESM-LR_MPI-CSC-REMO2009_v1/rcp85/tasmin/reduced_tasmin_EUR-11_MPI-M-MPI-ESM-LR_rcp85_r1i1p1_MPI-CSC-REMO2009_v1_day_20710101-20751231_LL.nc'"
   ]
  },
  {
   "cell_type": "code",
   "execution_count": 17,
   "metadata": {},
   "outputs": [],
   "source": [
    "ds_tas_current = xr.open_dataset(current_file).sel(time=slice('1996', '2000'),\n",
    "                                                  lat=slice(44,48), lon=slice(5,11))\n",
    "\n",
    "ds_tas_future = xr.open_dataset(future_file)"
   ]
  },
  {
   "cell_type": "code",
   "execution_count": 19,
   "metadata": {},
   "outputs": [],
   "source": [
    "# convert tasmin to deg celsius\n",
    "\n",
    "current_tas_degC = xc.units.convert_units_to(ds_tas_current.tasmin, 'degC')\n",
    "future_tas_degC = xc.units.convert_units_to(ds_tas_future.tasmin, 'degC')"
   ]
  },
  {
   "cell_type": "code",
   "execution_count": 32,
   "metadata": {},
   "outputs": [
    {
     "name": "stderr",
     "output_type": "stream",
     "text": [
      "/usr/local/miniconda3/lib/python3.9/site-packages/xclim/core/cfchecks.py:39: UserWarning: Variable has a non-conforming cell_methods: Got `time: minimum`, which do not include the expected `time: maximum`\n",
      "  _check_cell_methods(\n",
      "/usr/local/miniconda3/lib/python3.9/site-packages/xclim/core/cfchecks.py:39: UserWarning: Variable has a non-conforming cell_methods: Got `time: minimum`, which do not include the expected `time: maximum`\n",
      "  _check_cell_methods(\n"
     ]
    }
   ],
   "source": [
    "current_CSU = xc.indicators.icclim.CSU(current_tas_degC,)\n",
    "\n",
    "future_CSU = xc.indicators.icclim.CSU(future_tas_degC,)"
   ]
  },
  {
   "cell_type": "code",
   "execution_count": 34,
   "metadata": {},
   "outputs": [
    {
     "data": {
      "text/plain": [
       "<cartopy.mpl.geocollection.GeoQuadMesh at 0x7fc2f7888130>"
      ]
     },
     "execution_count": 34,
     "metadata": {},
     "output_type": "execute_result"
    },
    {
     "data": {
      "image/png": "[encoded data removed]",
      "text/plain": [
       "<Figure size 576x432 with 2 Axes>"
      ]
     },
     "metadata": {
      "needs_background": "light"
     },
     "output_type": "display_data"
    }
   ],
   "source": [
    "fig = plt.figure(figsize=(8,6))\n",
    "ax = plt.axes(projection=ccrs.PlateCarree())\n",
    "(future_CSU.isel(time=0) - current_CSU.isel(time=0)).plot(ax=ax, transform=ccrs.PlateCarree(),\n",
    "                                                          cbar_kwargs=dict(label='Difference in CSU',\n",
    "                                                                          shrink=0.6)\n",
    "                                                         )"
   ]
  },
  {
   "cell_type": "code",
   "execution_count": 21,
   "metadata": {},
   "outputs": [],
   "source": [
    "current_TNI = xc.indicators.icclim.TR(current_tas_degC,)"
   ]
  },
  {
   "cell_type": "code",
   "execution_count": 30,
   "metadata": {},
   "outputs": [],
   "source": [
    "future_TNI = xc.indicators.icclim.TR(future_tas_degC,)"
   ]
  },
  {
   "cell_type": "code",
   "execution_count": 28,
   "metadata": {},
   "outputs": [
    {
     "data": {
      "text/plain": [
       "<cartopy.mpl.feature_artist.FeatureArtist at 0x7fc2f8a9f4f0>"
      ]
     },
     "execution_count": 28,
     "metadata": {},
     "output_type": "execute_result"
    },
    {
     "name": "stderr",
     "output_type": "stream",
     "text": [
      "/usr/local/miniconda3/lib/python3.9/site-packages/cartopy/mpl/style.py:76: UserWarning: facecolor will have no effect as it has been defined as \"never\".\n",
      "  warnings.warn('facecolor will have no effect as it has been '\n"
     ]
    },
    {
     "data": {
      "image/png": "[encoded data removed]",
      "text/plain": [
       "<Figure size 576x432 with 2 Axes>"
      ]
     },
     "metadata": {
      "needs_background": "light"
     },
     "output_type": "display_data"
    }
   ],
   "source": [
    "fig = plt.figure(figsize=(8,6))\n",
    "ax = plt.axes(projection=ccrs.PlateCarree())\n",
    "current_TNI.isel(time=-1).plot(ax=ax, transform=ccrs.PlateCarree())\n",
    "ax.add_feature(cfeature.COASTLINE, linestyle=':', color='grey')\n",
    "ax.add_feature(cfeature.BORDERS, linestyle=':',  color='grey')\n",
    "#ax.add_feature(cfeature.OCEAN, zorder=10)"
   ]
  },
  {
   "cell_type": "code",
   "execution_count": 31,
   "metadata": {},
   "outputs": [
    {
     "data": {
      "text/plain": [
       "<cartopy.mpl.feature_artist.FeatureArtist at 0x7fc2f896f250>"
      ]
     },
     "execution_count": 31,
     "metadata": {},
     "output_type": "execute_result"
    },
    {
     "name": "stderr",
     "output_type": "stream",
     "text": [
      "/usr/local/miniconda3/lib/python3.9/site-packages/cartopy/mpl/style.py:76: UserWarning: facecolor will have no effect as it has been defined as \"never\".\n",
      "  warnings.warn('facecolor will have no effect as it has been '\n"
     ]
    },
    {
     "data": {
      "image/png": "[encoded data removed]",
      "text/plain": [
       "<Figure size 576x432 with 2 Axes>"
      ]
     },
     "metadata": {
      "needs_background": "light"
     },
     "output_type": "display_data"
    }
   ],
   "source": [
    "fig = plt.figure(figsize=(8,6))\n",
    "ax = plt.axes(projection=ccrs.PlateCarree())\n",
    "future_TNI.isel(time=-1).plot(ax=ax, transform=ccrs.PlateCarree())\n",
    "ax.add_feature(cfeature.COASTLINE, linestyle=':', color='grey')\n",
    "ax.add_feature(cfeature.BORDERS, linestyle=':',  color='grey')\n",
    "#ax.add_feature(cfeature.OCEAN, zorder=10)"
   ]
  }
 ],
 "metadata": {
  "kernelspec": {
   "display_name": "Python 3 (ipykernel)",
   "language": "python",
   "name": "python3"
  },
  "language_info": {
   "codemirror_mode": {
    "name": "ipython",
    "version": 3
   },
   "file_extension": ".py",
   "mimetype": "text/x-python",
   "name": "python",
   "nbconvert_exporter": "python",
   "pygments_lexer": "ipython3",
   "version": "3.9.10"
  }
 },
 "nbformat": 4,
 "nbformat_minor": 4
}
